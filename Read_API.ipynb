{
 "cells": [
  {
   "cell_type": "code",
   "execution_count": 73,
   "id": "dd7b66b1",
   "metadata": {},
   "outputs": [
    {
     "name": "stdout",
     "output_type": "stream",
     "text": [
      "Overwriting readapi.py\n"
     ]
    }
   ],
   "source": [
    "%%writefile readapi.py\n",
    "import os\n",
    "import json\n",
    "import requests\n",
    "import pprint\n",
    "\n",
    "def readAPI(url, params, headers, filename):  \n",
    "    list = []\n",
    "    response = requests.get(url, params=params, headers=headers).json()\n",
    "    list.append(response)\n",
    "    \n",
    "    # save in json file        \n",
    "    with open(filename, 'w') as f:\n",
    "        json.dump(list,f)\n",
    "            #text = json.loads(response.text)\n",
    "            #pretty = pprint.pformat(text).replace(\"'\", '\"')\n",
    "            #f.write(pretty)\n",
    "            \n",
    "    \n",
    " "
   ]
  },
  {
   "cell_type": "code",
   "execution_count": 74,
   "id": "120d4430",
   "metadata": {},
   "outputs": [
    {
     "data": {
      "text/plain": [
       "<module 'readapi' from '/Users/markgonzalesnielsen/Desktop/BI git/dat2023fall-bi/code/readapi.py'>"
      ]
     },
     "execution_count": 74,
     "metadata": {},
     "output_type": "execute_result"
    }
   ],
   "source": [
    "import importlib \n",
    "importlib.reload(readapi)"
   ]
  },
  {
   "cell_type": "code",
   "execution_count": 118,
   "id": "19dc8331",
   "metadata": {},
   "outputs": [
    {
     "ename": "ImportError",
     "evalue": "cannot import name 'readJSON' from 'readapi' (/Users/markgonzalesnielsen/Desktop/BI git/dat2023fall-bi/code/readapi.py)",
     "output_type": "error",
     "traceback": [
      "\u001b[0;31m---------------------------------------------------------------------------\u001b[0m",
      "\u001b[0;31mImportError\u001b[0m                               Traceback (most recent call last)",
      "Cell \u001b[0;32mIn[118], line 2\u001b[0m\n\u001b[1;32m      1\u001b[0m \u001b[38;5;28;01mimport\u001b[39;00m \u001b[38;5;21;01mreadapi\u001b[39;00m\n\u001b[0;32m----> 2\u001b[0m \u001b[38;5;28;01mfrom\u001b[39;00m \u001b[38;5;21;01mreadapi\u001b[39;00m \u001b[38;5;28;01mimport\u001b[39;00m readAPI, readJSON\n",
      "\u001b[0;31mImportError\u001b[0m: cannot import name 'readJSON' from 'readapi' (/Users/markgonzalesnielsen/Desktop/BI git/dat2023fall-bi/code/readapi.py)"
     ]
    }
   ],
   "source": [
    "import readapi\n",
    "from readapi import readAPI, readJSON"
   ]
  },
  {
   "cell_type": "code",
   "execution_count": 76,
   "id": "3d27d57d",
   "metadata": {},
   "outputs": [],
   "source": [
    "company = \"Cphbusiness\""
   ]
  },
  {
   "cell_type": "code",
   "execution_count": 77,
   "id": "00eedff8",
   "metadata": {},
   "outputs": [],
   "source": [
    "url='http://cvrapi.dk/api'  \n",
    "params = {'search':company, 'country':'DK'}\n",
    "headers = {'User-Agent': 'my company test'}"
   ]
  },
  {
   "cell_type": "code",
   "execution_count": 78,
   "id": "5bb58e79",
   "metadata": {},
   "outputs": [],
   "source": [
    "filename = '/Users/markgonzalesnielsen/Desktop/BI/json.json'\n"
   ]
  },
  {
   "cell_type": "code",
   "execution_count": 79,
   "id": "09d4e744",
   "metadata": {},
   "outputs": [],
   "source": [
    "response = readAPI(url, params, headers, filename)\n",
    "response"
   ]
  },
  {
   "cell_type": "code",
   "execution_count": 80,
   "id": "3807bec3",
   "metadata": {},
   "outputs": [],
   "source": [
    "import pandas as pd\n"
   ]
  },
  {
   "cell_type": "code",
   "execution_count": 81,
   "id": "64b63caf",
   "metadata": {},
   "outputs": [],
   "source": [
    "df = pd.DataFrame(columns = ['meta', 'text'])\n"
   ]
  },
  {
   "cell_type": "code",
   "execution_count": 82,
   "id": "59bccfc7",
   "metadata": {},
   "outputs": [
    {
     "ename": "NameError",
     "evalue": "name 'mymeta' is not defined",
     "output_type": "error",
     "traceback": [
      "\u001b[0;31m---------------------------------------------------------------------------\u001b[0m",
      "\u001b[0;31mNameError\u001b[0m                                 Traceback (most recent call last)",
      "Cell \u001b[0;32mIn[82], line 1\u001b[0m\n\u001b[0;32m----> 1\u001b[0m df\u001b[38;5;241m.\u001b[39mloc[\u001b[38;5;28mlen\u001b[39m(df\u001b[38;5;241m.\u001b[39mindex)] \u001b[38;5;241m=\u001b[39m [mymeta, text]\n",
      "\u001b[0;31mNameError\u001b[0m: name 'mymeta' is not defined"
     ]
    }
   ],
   "source": [
    "df.loc[len(df.index)] = [mymeta, text]\n"
   ]
  },
  {
   "cell_type": "code",
   "execution_count": 83,
   "id": "92d9a20d",
   "metadata": {},
   "outputs": [
    {
     "data": {
      "text/html": [
       "<div>\n",
       "<style scoped>\n",
       "    .dataframe tbody tr th:only-of-type {\n",
       "        vertical-align: middle;\n",
       "    }\n",
       "\n",
       "    .dataframe tbody tr th {\n",
       "        vertical-align: top;\n",
       "    }\n",
       "\n",
       "    .dataframe thead th {\n",
       "        text-align: right;\n",
       "    }\n",
       "</style>\n",
       "<table border=\"1\" class=\"dataframe\">\n",
       "  <thead>\n",
       "    <tr style=\"text-align: right;\">\n",
       "      <th></th>\n",
       "      <th>meta</th>\n",
       "      <th>text</th>\n",
       "    </tr>\n",
       "  </thead>\n",
       "  <tbody>\n",
       "  </tbody>\n",
       "</table>\n",
       "</div>"
      ],
      "text/plain": [
       "Empty DataFrame\n",
       "Columns: [meta, text]\n",
       "Index: []"
      ]
     },
     "execution_count": 83,
     "metadata": {},
     "output_type": "execute_result"
    }
   ],
   "source": [
    "df"
   ]
  },
  {
   "cell_type": "code",
   "execution_count": 84,
   "id": "d9794920",
   "metadata": {},
   "outputs": [
    {
     "data": {
      "text/plain": [
       "(0, 2)"
      ]
     },
     "execution_count": 84,
     "metadata": {},
     "output_type": "execute_result"
    }
   ],
   "source": [
    "df.shape"
   ]
  },
  {
   "cell_type": "code",
   "execution_count": 125,
   "id": "4f7760f8",
   "metadata": {},
   "outputs": [
    {
     "data": {
      "text/html": [
       "<div>\n",
       "<style scoped>\n",
       "    .dataframe tbody tr th:only-of-type {\n",
       "        vertical-align: middle;\n",
       "    }\n",
       "\n",
       "    .dataframe tbody tr th {\n",
       "        vertical-align: top;\n",
       "    }\n",
       "\n",
       "    .dataframe thead th {\n",
       "        text-align: right;\n",
       "    }\n",
       "</style>\n",
       "<table border=\"1\" class=\"dataframe\">\n",
       "  <thead>\n",
       "    <tr style=\"text-align: right;\">\n",
       "      <th></th>\n",
       "      <th>meta</th>\n",
       "      <th>text</th>\n",
       "    </tr>\n",
       "  </thead>\n",
       "  <tbody>\n",
       "  </tbody>\n",
       "</table>\n",
       "</div>"
      ],
      "text/plain": [
       "Empty DataFrame\n",
       "Columns: [meta, text]\n",
       "Index: []"
      ]
     },
     "execution_count": 125,
     "metadata": {},
     "output_type": "execute_result"
    }
   ],
   "source": [
    "df.head(10)"
   ]
  },
  {
   "cell_type": "code",
   "execution_count": 145,
   "id": "318681cf",
   "metadata": {},
   "outputs": [],
   "source": [
    "import json\n"
   ]
  },
  {
   "cell_type": "code",
   "execution_count": 146,
   "id": "28b39562",
   "metadata": {},
   "outputs": [],
   "source": [
    "with open('/Users/markgonzalesnielsen/Desktop/BI/json.json', 'r') as json_file:\n",
    "    data = json.load(json_file)"
   ]
  },
  {
   "cell_type": "code",
   "execution_count": 159,
   "id": "a308096a",
   "metadata": {},
   "outputs": [
    {
     "name": "stdout",
     "output_type": "stream",
     "text": [
      "{'vat': 28864027, 'name': 'CPH Business Park ApS', 'address': 'Dirch Passers Allé 76', 'zipcode': 2000, 'city': 'Frederiksberg', 'cityname': None, 'protected': False, 'phone': 70205410, 'email': None, 'fax': 70205411, 'startdate': '29/06 - 2005', 'enddate': None, 'employees': None, 'addressco': 'DEAS A/S', 'industrycode': 682040, 'industrydesc': 'Udlejning af erhvervsejendomme', 'companycode': 80, 'companydesc': 'Anpartsselskab', 'creditstartdate': None, 'creditbankrupt': False, 'creditstatus': None, 'owners': [{'name': 'Niam VI Denmark Holding 2 AB'}], 'productionunits': [{'pno': 1011521920, 'main': True, 'name': 'CPH Business Park ApS', 'address': 'Dirch Passers Allé 76', 'zipcode': 2000, 'city': 'Frederiksberg', 'cityname': None, 'protected': False, 'phone': 70205410, 'email': None, 'fax': 70205411, 'startdate': '29/06 - 2005', 'enddate': None, 'employees': None, 'addressco': 'DEAS A/S', 'industrycode': 682040, 'industrydesc': 'Udlejning af erhvervsejendomme'}], 't': 100, 'version': 6}\n"
     ]
    },
    {
     "ename": "KeyError",
     "evalue": "''",
     "output_type": "error",
     "traceback": [
      "\u001b[0;31m---------------------------------------------------------------------------\u001b[0m",
      "\u001b[0;31mKeyError\u001b[0m                                  Traceback (most recent call last)",
      "Cell \u001b[0;32mIn[159], line 4\u001b[0m\n\u001b[1;32m      1\u001b[0m \u001b[38;5;28mprint\u001b[39m(data) \n\u001b[1;32m      3\u001b[0m \u001b[38;5;66;03m# Access specific values\u001b[39;00m\n\u001b[0;32m----> 4\u001b[0m value \u001b[38;5;241m=\u001b[39m data[\u001b[38;5;124m'\u001b[39m\u001b[38;5;124m'\u001b[39m]\n",
      "\u001b[0;31mKeyError\u001b[0m: ''"
     ]
    }
   ],
   "source": [
    "print(data) \n",
    "\n",
    "# Access specific values\n",
    "value = data['']  # Replace 'key' with the actual key in your JSON data\n"
   ]
  },
  {
   "cell_type": "code",
   "execution_count": 160,
   "id": "4fb8a545",
   "metadata": {},
   "outputs": [
    {
     "name": "stdout",
     "output_type": "stream",
     "text": [
      "name: dict_keys(['vat', 'name', 'address', 'zipcode', 'city', 'cityname', 'protected', 'phone', 'email', 'fax', 'startdate', 'enddate', 'employees', 'addressco', 'industrycode', 'industrydesc', 'companycode', 'companydesc', 'creditstartdate', 'creditbankrupt', 'creditstatus', 'owners', 'productionunits', 't', 'version'])\n"
     ]
    }
   ],
   "source": [
    "import json\n",
    "\n",
    "# Your JSON data as a string (replace this with your actual JSON data)\n",
    "json_data = '''{\n",
    "   \"vat\": 28864027,\n",
    "   \"name\": \"CPH Business Park ApS\",\n",
    "   \"address\": \"Dirch Passers Allé 76\",\n",
    "   \"zipcode\": 2000,\n",
    "   \"city\": \"Frederiksberg\",\n",
    "   \"cityname\": null,\n",
    "   \"protected\": false,\n",
    "   \"phone\": 70205410,\n",
    "   \"email\": null,\n",
    "   \"fax\": 70205411,\n",
    "   \"startdate\": \"29/06 - 2005\",\n",
    "   \"enddate\": null,\n",
    "   \"employees\": null,\n",
    "   \"addressco\": \"DEAS A/S\",\n",
    "   \"industrycode\": 682040,\n",
    "   \"industrydesc\": \"Udlejning af erhvervsejendomme\",\n",
    "   \"companycode\": 80,\n",
    "   \"companydesc\": \"Anpartsselskab\",\n",
    "   \"creditstartdate\": null,\n",
    "   \"creditbankrupt\": false,\n",
    "   \"creditstatus\": null,\n",
    "   \"owners\": [\n",
    "      {\n",
    "         \"name\": \"Niam VI Denmark Holding 2 AB\"\n",
    "      }\n",
    "   ],\n",
    "   \"productionunits\": [\n",
    "      {\n",
    "         \"pno\": 1011521920,\n",
    "         \"main\": true,\n",
    "         \"name\": \"CPH Business Park ApS\",\n",
    "         \"address\": \"Dirch Passers Allé 76\",\n",
    "         \"zipcode\": 2000,\n",
    "         \"city\": \"Frederiksberg\",\n",
    "         \"cityname\": null,\n",
    "         \"protected\": false,\n",
    "         \"phone\": 70205410,\n",
    "         \"email\": null,\n",
    "         \"fax\": 70205411,\n",
    "         \"startdate\": \"29/06 - 2005\",\n",
    "         \"enddate\": null,\n",
    "         \"employees\": null,\n",
    "         \"addressco\": \"DEAS A/S\",\n",
    "         \"industrycode\": 682040,\n",
    "         \"industrydesc\": \"Udlejning af erhvervsejendomme\"\n",
    "      }\n",
    "   ],\n",
    "   \"t\": 100,\n",
    "   \"version\": 6\n",
    "}'''\n",
    "\n",
    "# Parse the JSON data into a Python dictionary\n",
    "data = json.loads(json_data)\n",
    "\n",
    "# Get the keys of the dictionary\n",
    "keys = data.keys()\n",
    "\n",
    "# Print the keys\n",
    "print(\"name:\", keys)"
   ]
  },
  {
   "cell_type": "code",
   "execution_count": null,
   "id": "dfb2cc7c",
   "metadata": {},
   "outputs": [],
   "source": []
  },
  {
   "cell_type": "code",
   "execution_count": null,
   "id": "fc78748a",
   "metadata": {},
   "outputs": [],
   "source": []
  },
  {
   "cell_type": "code",
   "execution_count": null,
   "id": "059f03b8",
   "metadata": {},
   "outputs": [],
   "source": []
  },
  {
   "cell_type": "code",
   "execution_count": null,
   "id": "a71ed18a",
   "metadata": {},
   "outputs": [],
   "source": []
  }
 ],
 "metadata": {
  "kernelspec": {
   "display_name": "Python 3 (ipykernel)",
   "language": "python",
   "name": "python3"
  },
  "language_info": {
   "codemirror_mode": {
    "name": "ipython",
    "version": 3
   },
   "file_extension": ".py",
   "mimetype": "text/x-python",
   "name": "python",
   "nbconvert_exporter": "python",
   "pygments_lexer": "ipython3",
   "version": "3.11.4"
  }
 },
 "nbformat": 4,
 "nbformat_minor": 5
}
