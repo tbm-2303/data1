{
 "cells": [
  {
   "cell_type": "code",
   "execution_count": 1,
   "id": "005aa5db",
   "metadata": {
    "collapsed": true
   },
   "outputs": [
    {
     "name": "stdout",
     "output_type": "stream",
     "text": [
      "Requirement already satisfied: docx2txt in c:\\users\\cej12\\anaconda3\\lib\\site-packages (0.8)"
     ]
    },
    {
     "name": "stderr",
     "output_type": "stream",
     "text": [
      "DEPRECATION: textract 1.6.5 has a non-standard dependency specifier extract-msg<=0.29.*. pip 23.3 will enforce this behaviour change. A possible replacement is to upgrade to a newer version of textract or contact the author to suggest that they release a version with a conforming dependency specifiers. Discussion can be found at https://github.com/pypa/pip/issues/12063\n"
     ]
    },
    {
     "name": "stdout",
     "output_type": "stream",
     "text": [
      "\n"
     ]
    }
   ],
   "source": [
    "!pip install docx2txt"
   ]
  },
  {
   "cell_type": "code",
   "execution_count": 2,
   "id": "8020abb3",
   "metadata": {
    "collapsed": true
   },
   "outputs": [
    {
     "name": "stdout",
     "output_type": "stream",
     "text": [
      "Requirement already satisfied: textract in c:\\users\\cej12\\anaconda3\\lib\\site-packages (1.6.5)\n",
      "Requirement already satisfied: argcomplete~=1.10.0 in c:\\users\\cej12\\anaconda3\\lib\\site-packages (from textract) (1.10.3)\n",
      "Requirement already satisfied: beautifulsoup4~=4.8.0 in c:\\users\\cej12\\anaconda3\\lib\\site-packages (from textract) (4.8.2)\n",
      "Requirement already satisfied: chardet==3.* in c:\\users\\cej12\\anaconda3\\lib\\site-packages (from textract) (3.0.4)\n",
      "Requirement already satisfied: docx2txt~=0.8 in c:\\users\\cej12\\anaconda3\\lib\\site-packages (from textract) (0.8)\n",
      "Requirement already satisfied: extract-msg<=0.29.* in c:\\users\\cej12\\anaconda3\\lib\\site-packages (from textract) (0.28.7)\n",
      "Requirement already satisfied: pdfminer.six==20191110 in c:\\users\\cej12\\anaconda3\\lib\\site-packages (from textract) (20191110)\n",
      "Requirement already satisfied: python-pptx~=0.6.18 in c:\\users\\cej12\\anaconda3\\lib\\site-packages (from textract) (0.6.22)\n",
      "Requirement already satisfied: six~=1.12.0 in c:\\users\\cej12\\anaconda3\\lib\\site-packages (from textract) (1.12.0)\n",
      "Requirement already satisfied: SpeechRecognition~=3.8.1 in c:\\users\\cej12\\anaconda3\\lib\\site-packages (from textract) (3.8.1)\n",
      "Requirement already satisfied: xlrd~=1.2.0 in c:\\users\\cej12\\anaconda3\\lib\\site-packages (from textract) (1.2.0)\n",
      "Requirement already satisfied: pycryptodome in c:\\users\\cej12\\anaconda3\\lib\\site-packages (from pdfminer.six==20191110->textract) (3.18.0)\n",
      "Requirement already satisfied: sortedcontainers in c:\\users\\cej12\\anaconda3\\lib\\site-packages (from pdfminer.six==20191110->textract) (2.4.0)\n",
      "Requirement already satisfied: soupsieve>=1.2 in c:\\users\\cej12\\anaconda3\\lib\\site-packages (from beautifulsoup4~=4.8.0->textract) (2.4)\n",
      "Requirement already satisfied: imapclient==2.1.0 in c:\\users\\cej12\\anaconda3\\lib\\site-packages (from extract-msg<=0.29.*->textract) (2.1.0)\n",
      "Requirement already satisfied: olefile>=0.46 in c:\\users\\cej12\\anaconda3\\lib\\site-packages (from extract-msg<=0.29.*->textract) (0.46)\n",
      "Requirement already satisfied: tzlocal>=2.1 in c:\\users\\cej12\\anaconda3\\lib\\site-packages (from extract-msg<=0.29.*->textract) (5.0.1)\n",
      "Requirement already satisfied: compressed-rtf>=1.0.6 in c:\\users\\cej12\\anaconda3\\lib\\site-packages (from extract-msg<=0.29.*->textract) (1.0.6)\n",
      "Requirement already satisfied: ebcdic>=1.1.1 in c:\\users\\cej12\\anaconda3\\lib\\site-packages (from extract-msg<=0.29.*->textract) (1.1.1)\n",
      "Requirement already satisfied: lxml>=3.1.0 in c:\\users\\cej12\\anaconda3\\lib\\site-packages (from python-pptx~=0.6.18->textract) (4.9.2)\n",
      "Requirement already satisfied: Pillow<=9.5.0,>=3.3.2 in c:\\users\\cej12\\anaconda3\\lib\\site-packages (from python-pptx~=0.6.18->textract) (9.4.0)\n",
      "Requirement already satisfied: XlsxWriter>=0.5.7 in c:\\users\\cej12\\anaconda3\\lib\\site-packages (from python-pptx~=0.6.18->textract) (3.1.2)\n",
      "Requirement already satisfied: tzdata in c:\\users\\cej12\\anaconda3\\lib\\site-packages (from tzlocal>=2.1->extract-msg<=0.29.*->textract) (2023.3)\n"
     ]
    },
    {
     "name": "stderr",
     "output_type": "stream",
     "text": [
      "DEPRECATION: textract 1.6.5 has a non-standard dependency specifier extract-msg<=0.29.*. pip 23.3 will enforce this behaviour change. A possible replacement is to upgrade to a newer version of textract or contact the author to suggest that they release a version with a conforming dependency specifiers. Discussion can be found at https://github.com/pypa/pip/issues/12063\n"
     ]
    }
   ],
   "source": [
    "!pip install textract"
   ]
  },
  {
   "cell_type": "code",
   "execution_count": 3,
   "id": "e69c15ab",
   "metadata": {
    "collapsed": true
   },
   "outputs": [
    {
     "name": "stdout",
     "output_type": "stream",
     "text": [
      "Requirement already satisfied: python-docx in c:\\users\\cej12\\anaconda3\\lib\\site-packages (0.8.11)\n",
      "Requirement already satisfied: lxml>=2.3.2 in c:\\users\\cej12\\anaconda3\\lib\\site-packages (from python-docx) (4.9.2)\n"
     ]
    },
    {
     "name": "stderr",
     "output_type": "stream",
     "text": [
      "DEPRECATION: textract 1.6.5 has a non-standard dependency specifier extract-msg<=0.29.*. pip 23.3 will enforce this behaviour change. A possible replacement is to upgrade to a newer version of textract or contact the author to suggest that they release a version with a conforming dependency specifiers. Discussion can be found at https://github.com/pypa/pip/issues/12063\n"
     ]
    }
   ],
   "source": [
    "!pip install python-docx"
   ]
  },
  {
   "cell_type": "code",
   "execution_count": 4,
   "id": "a4d60656",
   "metadata": {},
   "outputs": [
    {
     "name": "stdout",
     "output_type": "stream",
     "text": [
      "Overwriting readdoc.py\n"
     ]
    }
   ],
   "source": [
    "%%writefile readdoc.py\n",
    "\n",
    "import docx2txt\n",
    "import docx\n",
    "from docx.document import Document\n",
    "from docx.opc.coreprops import CoreProperties\n",
    "\n",
    "def readDoc(filename):    \n",
    "    mydoc = docx.Document(filename)\n",
    "    mymeta = getMeta(mydoc)\n",
    "    text = docx2txt.process(filename)\n",
    "    text = text.replace('\\n', ' ')\n",
    "    return mymeta, text\n",
    "    \n",
    "def getMeta(doc):\n",
    "    metadata = {}\n",
    "    prop = doc.core_properties\n",
    "    metadata[\"author\"] = prop.author\n",
    "    metadata[\"category\"] = prop.category\n",
    "    metadata[\"comments\"] = prop.comments\n",
    "    metadata[\"content_status\"] = prop.content_status\n",
    "    metadata[\"created\"] = prop.created\n",
    "    metadata[\"identifier\"] = prop.identifier\n",
    "    metadata[\"keywords\"] = prop.keywords\n",
    "    metadata[\"last_modified_by\"] = prop.last_modified_by\n",
    "    metadata[\"language\"] = prop.language\n",
    "    metadata[\"modified\"] = prop.modified\n",
    "    metadata[\"subject\"] = prop.subject\n",
    "    metadata[\"title\"] = prop.title\n",
    "    metadata[\"version\"] = prop.version\n",
    "    return metadata"
   ]
  },
  {
   "cell_type": "code",
   "execution_count": 5,
   "id": "5ad24800",
   "metadata": {},
   "outputs": [],
   "source": [
    "import readdoc\n",
    "from readdoc import readDoc"
   ]
  },
  {
   "cell_type": "code",
   "execution_count": 6,
   "id": "5625e436",
   "metadata": {},
   "outputs": [
    {
     "data": {
      "text/plain": [
       "<module 'readdoc' from 'C:\\\\Users\\\\cej12\\\\Skrivebord\\\\readdoc.py'>"
      ]
     },
     "execution_count": 6,
     "metadata": {},
     "output_type": "execute_result"
    }
   ],
   "source": [
    "import importlib \n",
    "importlib.reload(readdoc)"
   ]
  },
  {
   "cell_type": "code",
   "execution_count": 7,
   "id": "2147da2b",
   "metadata": {},
   "outputs": [],
   "source": [
    "uri = '/Users/cej12/Skrivebord/jkjk.docx'"
   ]
  },
  {
   "cell_type": "code",
   "execution_count": 8,
   "id": "84908354",
   "metadata": {},
   "outputs": [],
   "source": [
    "mymeta, text = readDoc(uri)"
   ]
  },
  {
   "cell_type": "code",
   "execution_count": 9,
   "id": "0a3ba278",
   "metadata": {},
   "outputs": [
    {
     "data": {
      "text/plain": [
       "'We must also build on our efforts to break up black markets, detect and intercept materials in   transit, and use financial tools to disrupt this dangerous trade. Because this threat will be   lasting, we should come together to turn efforts such as the Proliferation Security Initiative   and the Global Initiative to Combat Nuclear Terrorism into durable international institutions.   And we should start by having a Global Summit on Nuclear Security that the United States   will host within the next year.     I know that there are some who will question whether we can act on such a broad agenda.   There are those who doubt whether true international cooperation is possible, given the   inevitable differences among nations. And there are those who hear talk of a world without   nuclear weapons and doubt whether it is worth setting a goal that seems impossible to   achieve.'"
      ]
     },
     "execution_count": 9,
     "metadata": {},
     "output_type": "execute_result"
    }
   ],
   "source": [
    "text"
   ]
  },
  {
   "cell_type": "code",
   "execution_count": 10,
   "id": "ef8e1efa",
   "metadata": {},
   "outputs": [],
   "source": [
    "import pandas as pd"
   ]
  },
  {
   "cell_type": "code",
   "execution_count": 11,
   "id": "c44908fb",
   "metadata": {},
   "outputs": [],
   "source": [
    "df = pd.DataFrame(columns = ['meta', 'text'])"
   ]
  },
  {
   "cell_type": "code",
   "execution_count": 12,
   "id": "d79be6a3",
   "metadata": {},
   "outputs": [],
   "source": [
    "#add new row to the end of df\n",
    "df.loc[len(df.index)] = [mymeta, text]"
   ]
  },
  {
   "cell_type": "code",
   "execution_count": 13,
   "id": "e86011c3",
   "metadata": {},
   "outputs": [
    {
     "data": {
      "text/html": [
       "<div>\n",
       "<style scoped>\n",
       "    .dataframe tbody tr th:only-of-type {\n",
       "        vertical-align: middle;\n",
       "    }\n",
       "\n",
       "    .dataframe tbody tr th {\n",
       "        vertical-align: top;\n",
       "    }\n",
       "\n",
       "    .dataframe thead th {\n",
       "        text-align: right;\n",
       "    }\n",
       "</style>\n",
       "<table border=\"1\" class=\"dataframe\">\n",
       "  <thead>\n",
       "    <tr style=\"text-align: right;\">\n",
       "      <th></th>\n",
       "      <th>meta</th>\n",
       "      <th>text</th>\n",
       "    </tr>\n",
       "  </thead>\n",
       "  <tbody>\n",
       "    <tr>\n",
       "      <th>0</th>\n",
       "      <td>{'author': 'Timothy Busk Mortensen', 'category...</td>\n",
       "      <td>We must also build on our efforts to break up ...</td>\n",
       "    </tr>\n",
       "  </tbody>\n",
       "</table>\n",
       "</div>"
      ],
      "text/plain": [
       "                                                meta  \\\n",
       "0  {'author': 'Timothy Busk Mortensen', 'category...   \n",
       "\n",
       "                                                text  \n",
       "0  We must also build on our efforts to break up ...  "
      ]
     },
     "execution_count": 13,
     "metadata": {},
     "output_type": "execute_result"
    }
   ],
   "source": [
    "df"
   ]
  },
  {
   "cell_type": "code",
   "execution_count": 15,
   "id": "d27a626d",
   "metadata": {},
   "outputs": [
    {
     "data": {
      "text/plain": [
       "{'author': 'Timothy Busk Mortensen',\n",
       " 'category': '',\n",
       " 'comments': '',\n",
       " 'content_status': '',\n",
       " 'created': datetime.datetime(2023, 9, 3, 12, 24),\n",
       " 'identifier': '',\n",
       " 'keywords': '',\n",
       " 'last_modified_by': 'Timothy Busk Mortensen',\n",
       " 'language': '',\n",
       " 'modified': datetime.datetime(2023, 9, 3, 12, 25),\n",
       " 'subject': '',\n",
       " 'title': '',\n",
       " 'version': ''}"
      ]
     },
     "execution_count": 15,
     "metadata": {},
     "output_type": "execute_result"
    }
   ],
   "source": [
    "mymeta"
   ]
  },
  {
   "cell_type": "code",
   "execution_count": null,
   "id": "eab2ef7e",
   "metadata": {},
   "outputs": [],
   "source": []
  }
 ],
 "metadata": {
  "kernelspec": {
   "display_name": "Python 3 (ipykernel)",
   "language": "python",
   "name": "python3"
  },
  "language_info": {
   "codemirror_mode": {
    "name": "ipython",
    "version": 3
   },
   "file_extension": ".py",
   "mimetype": "text/x-python",
   "name": "python",
   "nbconvert_exporter": "python",
   "pygments_lexer": "ipython3",
   "version": "3.11.4"
  }
 },
 "nbformat": 4,
 "nbformat_minor": 5
}
